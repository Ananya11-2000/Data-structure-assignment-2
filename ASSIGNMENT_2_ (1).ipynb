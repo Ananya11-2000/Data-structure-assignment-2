{
  "nbformat": 4,
  "nbformat_minor": 0,
  "metadata": {
    "colab": {
      "provenance": []
    },
    "kernelspec": {
      "name": "python3",
      "display_name": "Python 3"
    },
    "language_info": {
      "name": "python"
    }
  },
  "cells": [
    {
      "cell_type": "code",
      "source": [
        "# DATA TYPES AND STRUCTURES QUESTIONS:"
      ],
      "metadata": {
        "id": "vujiCMX69cUE"
      },
      "execution_count": null,
      "outputs": []
    },
    {
      "cell_type": "code",
      "source": [
        "#Q-1 What Are Data Structures and, Why are they important?\n",
        "#A-1 Data structures are the way of organizing and storing data so that it can be accessed and manipulated efficiently.\n",
        "#they are important because of their efficient data management and their way to solve complex problems easily."
      ],
      "metadata": {
        "id": "Uv9PRPoRw_SR"
      },
      "execution_count": null,
      "outputs": []
    },
    {
      "cell_type": "code",
      "source": [
        "#Q-2 Explain the difference between mutable and immutable data types with examples.\n",
        "#A-2 Mutable datatypes: These data types can be changed after they are created, list, dict, set are type of mutable datatypes.\n",
        "#example:\n",
        "list_cont = [ 1, 2, 3, 4.3, 3+5j, \"pwskills\", True]\n",
        "list_cont"
      ],
      "metadata": {
        "colab": {
          "base_uri": "https://localhost:8080/"
        },
        "id": "n_0QhGgv2dfy",
        "outputId": "94be92f5-a54f-497b-dd4b-0153551f5c4c"
      },
      "execution_count": null,
      "outputs": [
        {
          "output_type": "execute_result",
          "data": {
            "text/plain": [
              "[1, 2, 3, 4.3, (3+5j), 'pwskills', True]"
            ]
          },
          "metadata": {},
          "execution_count": 2
        }
      ]
    },
    {
      "cell_type": "code",
      "source": [
        "list_cont[2] = 100\n",
        "list_cont"
      ],
      "metadata": {
        "colab": {
          "base_uri": "https://localhost:8080/"
        },
        "id": "-SJYtier5ppN",
        "outputId": "842bde62-4ba5-4460-b24b-88d42e843c01"
      },
      "execution_count": null,
      "outputs": [
        {
          "output_type": "execute_result",
          "data": {
            "text/plain": [
              "[1, 2, 100, 4.3, (3+5j), 'pwskills', True]"
            ]
          },
          "metadata": {},
          "execution_count": 3
        }
      ]
    },
    {
      "cell_type": "code",
      "source": [
        "#Immutable datatypes: These data types cannot be changed after they are created, string is a type of immutable data types.\n",
        "#example:\n",
        "b = \"pw skills\"\n",
        "b"
      ],
      "metadata": {
        "colab": {
          "base_uri": "https://localhost:8080/",
          "height": 35
        },
        "id": "JdImA8Xs518y",
        "outputId": "493b9f40-2150-4d6f-9135-46ab8315cda5"
      },
      "execution_count": null,
      "outputs": [
        {
          "output_type": "execute_result",
          "data": {
            "text/plain": [
              "'pw skills'"
            ],
            "application/vnd.google.colaboratory.intrinsic+json": {
              "type": "string"
            }
          },
          "metadata": {},
          "execution_count": 4
        }
      ]
    },
    {
      "cell_type": "code",
      "source": [
        "b[0] = \"i\""
      ],
      "metadata": {
        "colab": {
          "base_uri": "https://localhost:8080/",
          "height": 141
        },
        "id": "tF4Cqcwd7Mwv",
        "outputId": "3ca836b5-d76c-40a4-d373-3fb66cfaf914"
      },
      "execution_count": null,
      "outputs": [
        {
          "output_type": "error",
          "ename": "TypeError",
          "evalue": "'str' object does not support item assignment",
          "traceback": [
            "\u001b[0;31m---------------------------------------------------------------------------\u001b[0m",
            "\u001b[0;31mTypeError\u001b[0m                                 Traceback (most recent call last)",
            "\u001b[0;32m<ipython-input-5-258ec4a435a4>\u001b[0m in \u001b[0;36m<cell line: 0>\u001b[0;34m()\u001b[0m\n\u001b[0;32m----> 1\u001b[0;31m \u001b[0mb\u001b[0m\u001b[0;34m[\u001b[0m\u001b[0;36m0\u001b[0m\u001b[0;34m]\u001b[0m \u001b[0;34m=\u001b[0m \u001b[0;34m\"i\"\u001b[0m\u001b[0;34m\u001b[0m\u001b[0;34m\u001b[0m\u001b[0m\n\u001b[0m",
            "\u001b[0;31mTypeError\u001b[0m: 'str' object does not support item assignment"
          ]
        }
      ]
    },
    {
      "cell_type": "code",
      "source": [
        "#Q-3 what are the main differences between lists and tuples in python?\n",
        "#A-3 The main difference between list and tuples is that list are mutable that can be changed after they are created and tuples aure immutable as they cannot be changed after they are created\n"
      ],
      "metadata": {
        "id": "yy05IX-P7TpN"
      },
      "execution_count": null,
      "outputs": []
    },
    {
      "cell_type": "code",
      "source": [
        "#Q-4 Describe how dictionaries store data.\n",
        "#A-4 Dictionaries stores data in the form of key value pair, they are unordered collections of data and are represented with curly brackets."
      ],
      "metadata": {
        "id": "kcj6sZu37m7w"
      },
      "execution_count": null,
      "outputs": []
    },
    {
      "cell_type": "code",
      "source": [
        "#Q-5 Why might you use a set instead of a list in python?\n",
        "#A-5 We might use a set instead of list because sets are unordered collection of unique element and they cannot have multiple occurences of the same element\n",
        "#so it gets easy to find duplicate values in sets which we cannot do with lists.\n"
      ],
      "metadata": {
        "id": "PEWMJsEA9oVI"
      },
      "execution_count": null,
      "outputs": []
    },
    {
      "cell_type": "code",
      "source": [
        "#Q-6 What is a string in python and how is it different from the list?\n",
        "#A-6 String is a sequence of character that represents and manipulate textual data.\n",
        "# the main difference between string and list is that strings have a fixed length, while lists can be dynamically long or short in size by adding or removing elements"
      ],
      "metadata": {
        "id": "cWpSr64nAFG9"
      },
      "execution_count": null,
      "outputs": []
    },
    {
      "cell_type": "code",
      "source": [
        "#Q-7 How do tuples ensures data integrity in python?\n",
        "#A-7 As we know tuples are immutable data types and this is enough to ensure that their contents remain constant throghout their lifecycle which ensures its data integrity and relaibility.\n",
        "#for example: adhar card no. , atm card no."
      ],
      "metadata": {
        "id": "DmthzpK_CNQQ"
      },
      "execution_count": null,
      "outputs": []
    },
    {
      "cell_type": "code",
      "source": [
        "#Q-8 What is a hash table, and how does it relate to dictionaries in python?\n",
        "#A-8 The table in which information is stored in an easy to retrieve and efficient manner is known as hash table.\n",
        "#Dictionaries are commonly implemented through hash tables that means when we use dictonary in python, then we are essentially working with hash table under the hood."
      ],
      "metadata": {
        "id": "jesCcTHkD8Ua"
      },
      "execution_count": null,
      "outputs": []
    },
    {
      "cell_type": "code",
      "source": [
        "#Q-9 Can list contain different data types in python?\n",
        "#A-9 yes, lists contains different heterogenous data types in python in the form of integers, strings, floats and booleans."
      ],
      "metadata": {
        "id": "0FB2LIEyHgzs"
      },
      "execution_count": null,
      "outputs": []
    },
    {
      "cell_type": "code",
      "source": [
        "#Q-10 Explain why strings are immutable in python?\n",
        "#A-10 Strings are immutable in python because they cannot be changed after they have been created and also to ensure memory efficiency, security and thread safety."
      ],
      "metadata": {
        "id": "fWHalvx4IiGC"
      },
      "execution_count": null,
      "outputs": []
    },
    {
      "cell_type": "code",
      "source": [
        "#Q-11 What advantages do dictionaries offer over lists for certain tasks?\n",
        "#A-11 lists are used to store the data which is ordered and sequential whereas dictionary is used to store large amount of data for easy and quick access that's why we some time prefers dictionaries over lists"
      ],
      "metadata": {
        "id": "xOHGEDVqJyYd"
      },
      "execution_count": null,
      "outputs": []
    },
    {
      "cell_type": "code",
      "source": [
        "#Q-12 Describe a scenario where using a tuple would be preferable over a list.\n",
        "#A-12 whenever we don't want to change our data in the first place like some critical records or information, at that time we should use tuple over lists."
      ],
      "metadata": {
        "id": "QlnlGh0WMJ10"
      },
      "execution_count": null,
      "outputs": []
    },
    {
      "cell_type": "code",
      "source": [
        "#Q-13 How does sets handles duplicate values in python?\n",
        "#A-13 Sets are unordered collection of unique element as they are designed to store only unique elements so whenever we add a duplicate value to a set, it automatically removes the duplicate value, ensuring that value can appear only once."
      ],
      "metadata": {
        "id": "-Xj48wZnNUXS"
      },
      "execution_count": null,
      "outputs": []
    },
    {
      "cell_type": "code",
      "source": [
        "#Q-14 How does the \"in\" keyword works differently for lists and dictionaries?\n",
        "#A-14 For lists the \"in\" keyword use to check the presence of an element by iterating through the list until a match is found or the end of the list is reached.\n",
        "#on the other hand in dictionaries the \"in\" keyword used to check the presence of a key, not a value."
      ],
      "metadata": {
        "id": "FKA-RL_eO-mP"
      },
      "execution_count": null,
      "outputs": []
    },
    {
      "cell_type": "code",
      "source": [
        "#Q-15 Can you modify the elements of a tuple? Explain why or why not?\n",
        "#A-15 No, we cannot modify the elements of tuple  as they are immutable data structures which means that their contents cannot be changed after they have created."
      ],
      "metadata": {
        "id": "XNEC3VwXPRrV"
      },
      "execution_count": null,
      "outputs": []
    },
    {
      "cell_type": "code",
      "source": [
        "#Q-16 What is a nested dictionary and give an example of its use case?\n",
        "#A-16 Nested dictionary is a dictionary inside a dictionary which makes it easier to organize and access data.\n",
        "#Use case:\n",
        "my_family = {\"child1\": {\"name\": \"ajay\", \"year\": 1998}}, {\"child2\": {\"name\": \"bijay\", \"year\": 2000}}, {\"child3\": {\"name\": \"sanjay\", \"year\": 2002}}\n",
        "print(my_family)"
      ],
      "metadata": {
        "id": "jq8fGGAVQ-df",
        "colab": {
          "base_uri": "https://localhost:8080/"
        },
        "outputId": "b589fdde-e398-4f71-d949-2c8716d9d3ef"
      },
      "execution_count": null,
      "outputs": [
        {
          "output_type": "stream",
          "name": "stdout",
          "text": [
            "({'child1': {'name': 'ajay', 'year': 1998}}, {'child2': {'name': 'bijay', 'year': 2000}}, {'child3': {'name': 'sanjay', 'year': 2002}})\n"
          ]
        }
      ]
    },
    {
      "cell_type": "code",
      "source": [
        "#Q-17 Describe the time complexity of accessing elements in a dictionary.\n",
        "#A-17 The time complexity of retreving a value by its key in a dictinary is 0(1). this is because dictionaries uses hash tables internally which allows constant time lookup,\n",
        "#hash tables use the hash of the key to find the memory location which enables direct access."
      ],
      "metadata": {
        "id": "OfI40QeNwlNs"
      },
      "execution_count": null,
      "outputs": []
    },
    {
      "cell_type": "code",
      "source": [
        "#Q-18 In what situations are lists preffered over dictionaries?\n",
        "#A-18 We prefer lists over dictionaries when we want ordered and mutable collection of elements as lists perform faster for ordered operations like sorting of shopping lists and tasks lists, while dictionary perform faster for lookup operations."
      ],
      "metadata": {
        "id": "JkF78Skw0T0z"
      },
      "execution_count": null,
      "outputs": []
    },
    {
      "cell_type": "code",
      "source": [
        "#Q-19 Why are dictionaries considered unordered, and how does that affect data retreival?\n",
        "#A-19 Dictionaries considered unordered beacuse there elements are not stored in a specific order.\n",
        "#In dictionaries there is unique key-value pair that means each key act as a unique identifier for retreving an associated value."
      ],
      "metadata": {
        "id": "KkkSNTw13Uvp"
      },
      "execution_count": null,
      "outputs": []
    },
    {
      "cell_type": "code",
      "source": [
        "#Q-20 Explain the difference between a list and a dictionary in terms of data retreival.\n",
        "#A-20 In terms od data retreival , a dictionary excels at fast lookups by key, while a list is better suited for sequential access by index.\n",
        "#In lists retrieval time is proportinal to the list's size as elements need to be checked one by one, while in dictionaries retreival time is vert fast (close to 0(1) or constant time) with thw use of a hash table."
      ],
      "metadata": {
        "id": "LP_vaMaR3-8z"
      },
      "execution_count": null,
      "outputs": []
    },
    {
      "cell_type": "code",
      "source": [
        "# PRACTICAL QUESTIONS"
      ],
      "metadata": {
        "id": "IO3u-cZR9FjT"
      },
      "execution_count": null,
      "outputs": []
    },
    {
      "cell_type": "code",
      "source": [
        "# A-1\n",
        "print(\"Ananya\")"
      ],
      "metadata": {
        "colab": {
          "base_uri": "https://localhost:8080/"
        },
        "id": "hFv8d7rd9wKi",
        "outputId": "f096a53b-3710-48ee-9c70-59c1fc070ff9"
      },
      "execution_count": null,
      "outputs": [
        {
          "output_type": "stream",
          "name": "stdout",
          "text": [
            "Ananya\n"
          ]
        }
      ]
    },
    {
      "cell_type": "code",
      "source": [
        "#A-2\n",
        "length = len(\"Hello World\")\n",
        "print(length)"
      ],
      "metadata": {
        "colab": {
          "base_uri": "https://localhost:8080/"
        },
        "id": "QMIY9rg3CU6e",
        "outputId": "eaf76612-cd91-40f5-c7ed-b99e6b206ace"
      },
      "execution_count": null,
      "outputs": [
        {
          "output_type": "stream",
          "name": "stdout",
          "text": [
            "11\n"
          ]
        }
      ]
    },
    {
      "cell_type": "code",
      "source": [
        "#A-3\n",
        "text = \"Python Programming\"\n",
        "text[3:]"
      ],
      "metadata": {
        "colab": {
          "base_uri": "https://localhost:8080/",
          "height": 35
        },
        "id": "6jiSZXFBClTF",
        "outputId": "e3940a5d-a5e5-4a32-8f37-a06743c54295"
      },
      "execution_count": null,
      "outputs": [
        {
          "output_type": "execute_result",
          "data": {
            "text/plain": [
              "'hon Programming'"
            ],
            "application/vnd.google.colaboratory.intrinsic+json": {
              "type": "string"
            }
          },
          "metadata": {},
          "execution_count": 16
        }
      ]
    },
    {
      "cell_type": "code",
      "source": [
        "#A-4\n",
        "String = \"Hello\"\n",
        "uppercase = String.upper()\n",
        "print(uppercase)"
      ],
      "metadata": {
        "colab": {
          "base_uri": "https://localhost:8080/"
        },
        "id": "691c8OtADhDn",
        "outputId": "55bea706-22f5-4f65-880d-04fb01a7cd16"
      },
      "execution_count": null,
      "outputs": [
        {
          "output_type": "stream",
          "name": "stdout",
          "text": [
            "HELLO\n"
          ]
        }
      ]
    },
    {
      "cell_type": "code",
      "source": [
        "#A-5\n",
        "text = \"I like apple\"\n",
        "new_text = text.replace(\"apple\", \"orange\")\n",
        "print(new_text)"
      ],
      "metadata": {
        "colab": {
          "base_uri": "https://localhost:8080/"
        },
        "id": "CsRNvSACEQRi",
        "outputId": "9a6f0416-f9bb-4e35-d92f-4ed8cc554974"
      },
      "execution_count": null,
      "outputs": [
        {
          "output_type": "stream",
          "name": "stdout",
          "text": [
            "I like orange\n"
          ]
        }
      ]
    },
    {
      "cell_type": "code",
      "source": [
        "#A-6\n",
        "my_list = [1, 2, 3, 4, 5]\n",
        "print(my_list)"
      ],
      "metadata": {
        "colab": {
          "base_uri": "https://localhost:8080/"
        },
        "id": "fgPksJn7FwP9",
        "outputId": "ff45f151-0cfb-4232-a635-c0a5aef75e28"
      },
      "execution_count": null,
      "outputs": [
        {
          "output_type": "stream",
          "name": "stdout",
          "text": [
            "[1, 2, 3, 4, 5]\n"
          ]
        }
      ]
    },
    {
      "cell_type": "code",
      "source": [
        "#A-7\n",
        "my_list = [1, 2, 3, 4]\n",
        "my_list.append(10)\n",
        "print(my_list)\n"
      ],
      "metadata": {
        "colab": {
          "base_uri": "https://localhost:8080/"
        },
        "id": "2vOLJegTIUbu",
        "outputId": "5a00e254-e1fa-4f72-8e7a-ced5ac9744f2"
      },
      "execution_count": null,
      "outputs": [
        {
          "output_type": "stream",
          "name": "stdout",
          "text": [
            "[1, 2, 3, 4, 10]\n"
          ]
        }
      ]
    },
    {
      "cell_type": "code",
      "source": [
        "#A-8\n",
        "my_list = [1, 2, 3, 4, 5]\n",
        "my_list.remove(3)\n",
        "print(my_list)"
      ],
      "metadata": {
        "colab": {
          "base_uri": "https://localhost:8080/"
        },
        "id": "sp7GIdNCJQOP",
        "outputId": "1a08115f-f369-4ed7-e2a0-3111635a61e1"
      },
      "execution_count": null,
      "outputs": [
        {
          "output_type": "stream",
          "name": "stdout",
          "text": [
            "[1, 2, 4, 5]\n"
          ]
        }
      ]
    },
    {
      "cell_type": "code",
      "source": [
        "#A-9\n",
        "my_list = [1, 2, 3, 4, 5]\n",
        "my_list[2]"
      ],
      "metadata": {
        "colab": {
          "base_uri": "https://localhost:8080/"
        },
        "id": "GyD36NDhKBgs",
        "outputId": "9061ef03-4f40-4ecd-e73a-6120a73ba899"
      },
      "execution_count": null,
      "outputs": [
        {
          "output_type": "execute_result",
          "data": {
            "text/plain": [
              "3"
            ]
          },
          "metadata": {},
          "execution_count": 35
        }
      ]
    },
    {
      "cell_type": "code",
      "source": [
        "#A-10\n",
        "my_list = [10, 20, 30, 40, 50]\n",
        "my_list.reverse()\n",
        "print(my_list)"
      ],
      "metadata": {
        "colab": {
          "base_uri": "https://localhost:8080/"
        },
        "id": "xzkNAChcL-SC",
        "outputId": "252ed2dc-a842-4631-a2f6-14e74f3e287b"
      },
      "execution_count": null,
      "outputs": [
        {
          "output_type": "stream",
          "name": "stdout",
          "text": [
            "[50, 40, 30, 20, 10]\n"
          ]
        }
      ]
    },
    {
      "cell_type": "code",
      "source": [
        "#A-11\n",
        "t = (100, 200, 300)\n",
        "print(t)"
      ],
      "metadata": {
        "colab": {
          "base_uri": "https://localhost:8080/"
        },
        "id": "fT-b3Yt2Ml_q",
        "outputId": "59ef12ef-762e-46aa-e313-886d568ae847"
      },
      "execution_count": null,
      "outputs": [
        {
          "output_type": "stream",
          "name": "stdout",
          "text": [
            "(100, 200, 300)\n"
          ]
        }
      ]
    },
    {
      "cell_type": "code",
      "source": [
        "#A-12\n",
        "t = ('red', 'green', 'blue', 'yellow')\n",
        "my_tuple = t[2:3]\n",
        "print(my_tuple)"
      ],
      "metadata": {
        "colab": {
          "base_uri": "https://localhost:8080/"
        },
        "id": "NM-T_UuIPClI",
        "outputId": "44b5bbb4-e80d-476f-9668-143c8f1f2201"
      },
      "execution_count": null,
      "outputs": [
        {
          "output_type": "stream",
          "name": "stdout",
          "text": [
            "('blue',)\n"
          ]
        }
      ]
    },
    {
      "cell_type": "code",
      "source": [
        "#A-13\n",
        "t = (10, 20, 5, 15)\n",
        "min_value = min(t)\n",
        "print(min_value)"
      ],
      "metadata": {
        "colab": {
          "base_uri": "https://localhost:8080/"
        },
        "id": "1fom6JxhRhbh",
        "outputId": "abe1f8e4-a47d-4220-ace5-e02d7849ae7f"
      },
      "execution_count": null,
      "outputs": [
        {
          "output_type": "stream",
          "name": "stdout",
          "text": [
            "5\n"
          ]
        }
      ]
    },
    {
      "cell_type": "code",
      "source": [
        "#A-14\n",
        "t = ('dog', 'cat', 'rabbit')\n",
        "t.index('cat')"
      ],
      "metadata": {
        "colab": {
          "base_uri": "https://localhost:8080/"
        },
        "id": "Pi5VH8sqSXvD",
        "outputId": "a7289255-7019-4810-b54c-882e4410148a"
      },
      "execution_count": null,
      "outputs": [
        {
          "output_type": "execute_result",
          "data": {
            "text/plain": [
              "1"
            ]
          },
          "metadata": {},
          "execution_count": 42
        }
      ]
    },
    {
      "cell_type": "code",
      "source": [
        "#A-15\n",
        "t = (\"apple\", \"cheery\", \"kiwi\")\n",
        "element_to_check = \"kiwi\"\n",
        "if element_to_check in t:\n",
        "    print(f\"{element_to_check} is present in the tuple.\")\n",
        "else:\n",
        "    print(f\"{element_to_check} is not present in the tuple.\")"
      ],
      "metadata": {
        "colab": {
          "base_uri": "https://localhost:8080/"
        },
        "id": "B1PVa3-6To6g",
        "outputId": "4cdfce0c-c564-4e55-b431-2e8bb9d96d6b"
      },
      "execution_count": null,
      "outputs": [
        {
          "output_type": "stream",
          "name": "stdout",
          "text": [
            "kiwi is present in the tuple.\n"
          ]
        }
      ]
    },
    {
      "cell_type": "code",
      "source": [
        "#A-16\n",
        "my_set = {'a', 'b', 'c'}\n",
        "print(my_set)"
      ],
      "metadata": {
        "colab": {
          "base_uri": "https://localhost:8080/"
        },
        "id": "UV4Y15OuVFYz",
        "outputId": "39af8a37-e043-4ed8-f7a9-493518c2ae76"
      },
      "execution_count": null,
      "outputs": [
        {
          "output_type": "stream",
          "name": "stdout",
          "text": [
            "{'b', 'a', 'c'}\n"
          ]
        }
      ]
    },
    {
      "cell_type": "code",
      "source": [
        "#A-17\n",
        "my_set = {1, 2, 3, 4, 5}\n",
        "my_set.clear()\n",
        "print(my_set)"
      ],
      "metadata": {
        "colab": {
          "base_uri": "https://localhost:8080/"
        },
        "id": "W62EeV1uWo4Q",
        "outputId": "e5f6e0b9-ca7c-433b-82e2-4e9dc1c432e0"
      },
      "execution_count": null,
      "outputs": [
        {
          "output_type": "stream",
          "name": "stdout",
          "text": [
            "set()\n"
          ]
        }
      ]
    },
    {
      "cell_type": "code",
      "source": [
        "#A-18\n",
        "my_set = {1, 2, 3, 4}\n",
        "my_set.remove(4)\n",
        "print(my_set)"
      ],
      "metadata": {
        "colab": {
          "base_uri": "https://localhost:8080/"
        },
        "id": "157t-EN8Xsh3",
        "outputId": "e438ec98-45b6-4710-bbd1-48e0ae233946"
      },
      "execution_count": null,
      "outputs": [
        {
          "output_type": "stream",
          "name": "stdout",
          "text": [
            "{1, 2, 3}\n"
          ]
        }
      ]
    },
    {
      "cell_type": "code",
      "source": [
        "#A-19\n",
        "set1 = {1, 2, 3}\n",
        "set2 = {3, 4, 5}\n",
        "union_set = set1.union(set2)\n",
        "print(union_set)"
      ],
      "metadata": {
        "colab": {
          "base_uri": "https://localhost:8080/"
        },
        "id": "9YDiXl2zYbs8",
        "outputId": "399d2f1f-5eaa-4e88-9a67-181b23b4c402"
      },
      "execution_count": null,
      "outputs": [
        {
          "output_type": "stream",
          "name": "stdout",
          "text": [
            "{1, 2, 3, 4, 5}\n"
          ]
        }
      ]
    },
    {
      "cell_type": "code",
      "source": [
        "#A-20\n",
        "set1 = {1, 2, 3}\n",
        "set2 = {2, 3, 4}\n",
        "intersection_set = set1.intersection(set2)\n",
        "print(intersection_set)"
      ],
      "metadata": {
        "colab": {
          "base_uri": "https://localhost:8080/"
        },
        "id": "QBLc4NqsZT_P",
        "outputId": "50d23edc-a0be-48b6-b7f9-24e5e31c94de"
      },
      "execution_count": null,
      "outputs": [
        {
          "output_type": "stream",
          "name": "stdout",
          "text": [
            "{2, 3}\n"
          ]
        }
      ]
    },
    {
      "cell_type": "code",
      "source": [
        "#A-21\n",
        "my_dict = {\"name\": \"Ananya\", \"age\": 25, \"city\": \"Noida\"}\n",
        "print(my_dict)"
      ],
      "metadata": {
        "colab": {
          "base_uri": "https://localhost:8080/"
        },
        "id": "tg9-A84cZ2c1",
        "outputId": "6a1a9046-7cb3-4ff9-b9a5-88bc20a9da31"
      },
      "execution_count": null,
      "outputs": [
        {
          "output_type": "stream",
          "name": "stdout",
          "text": [
            "{'name': 'Ananya', 'age': 25, 'city': 'Noida'}\n"
          ]
        }
      ]
    },
    {
      "cell_type": "code",
      "source": [
        "#A-22\n",
        "my_dict = {\"name\": \"john\", \"age\": 25}\n",
        "my_dict[\"country\"]=\"USA\"\n",
        "print(my_dict)"
      ],
      "metadata": {
        "colab": {
          "base_uri": "https://localhost:8080/"
        },
        "id": "3dRUTZWpauiz",
        "outputId": "6765a13b-5df7-4663-b54b-4daa6b298688"
      },
      "execution_count": null,
      "outputs": [
        {
          "output_type": "stream",
          "name": "stdout",
          "text": [
            "{'name': 'john', 'age': 25, 'country': 'USA'}\n"
          ]
        }
      ]
    },
    {
      "cell_type": "code",
      "source": [
        "#A-23\n",
        "my_dict = {\"name\": \"Alice\", \"age\": 30}\n",
        "name = my_dict[\"name\"]\n",
        "print(name)"
      ],
      "metadata": {
        "colab": {
          "base_uri": "https://localhost:8080/"
        },
        "id": "cYRjO-M8cP1n",
        "outputId": "e21616b5-41cd-4de2-d7c0-9b5e041df708"
      },
      "execution_count": null,
      "outputs": [
        {
          "output_type": "stream",
          "name": "stdout",
          "text": [
            "Alice\n"
          ]
        }
      ]
    },
    {
      "cell_type": "code",
      "source": [
        "#A-24\n",
        "my_dict = {\"name\": \"Bob\", \"age\": 22, \"city\": \"New York\"}\n",
        "del my_dict[\"age\"]\n",
        "print(my_dict)"
      ],
      "metadata": {
        "colab": {
          "base_uri": "https://localhost:8080/"
        },
        "id": "wdgCRyJ2dkEb",
        "outputId": "cbe58510-7601-4cb6-828f-12959da4bfb0"
      },
      "execution_count": null,
      "outputs": [
        {
          "output_type": "stream",
          "name": "stdout",
          "text": [
            "{'name': 'Bob', 'city': 'New York'}\n"
          ]
        }
      ]
    },
    {
      "cell_type": "code",
      "source": [
        "#A-25\n",
        "my_dict = {\"name\": \"Alice\", \"city\": \"Paris\"}\n",
        "key_to_check = \"city\"\n",
        "if key_to_check in my_dict:\n",
        "    print(f\"{key_to_check} is present in the dictionary.\")\n",
        "else:\n",
        "    print(f\"{key_to_check} is not present in the dictionary.\")"
      ],
      "metadata": {
        "colab": {
          "base_uri": "https://localhost:8080/"
        },
        "id": "jGSrYCV7emIr",
        "outputId": "63a7308e-1777-45c8-c196-ceaec2e0f9d3"
      },
      "execution_count": null,
      "outputs": [
        {
          "output_type": "stream",
          "name": "stdout",
          "text": [
            "city is present in the dictionary.\n"
          ]
        }
      ]
    },
    {
      "cell_type": "code",
      "source": [
        "#A-26\n",
        "my_list = [1, 2, \"orange\", 4.5, True]\n",
        "my_tuple = (1, 2, \"orange\", 4.5, True)\n",
        "my_dict = {\"a\": 1, \"b\": 2, \"c\": \"orange\", \"d\": 4.5, \"e\": True}\n",
        "print(my_list)\n",
        "print(my_tuple)\n",
        "print(my_dict)"
      ],
      "metadata": {
        "colab": {
          "base_uri": "https://localhost:8080/"
        },
        "id": "XH9_ud2kgALi",
        "outputId": "34afa873-0dfa-48eb-b795-b0022f62b2ec"
      },
      "execution_count": null,
      "outputs": [
        {
          "output_type": "stream",
          "name": "stdout",
          "text": [
            "[1, 2, 'orange', 4.5, True]\n",
            "(1, 2, 'orange', 4.5, True)\n",
            "{'a': 1, 'b': 2, 'c': 'orange', 'd': 4.5, 'e': True}\n"
          ]
        }
      ]
    },
    {
      "cell_type": "code",
      "source": [
        "#A-27\n",
        "my_list = [26, 28, 15, 29, 1 ]\n",
        "sorted_list = sorted(my_list)\n",
        "print(sorted_list)\n"
      ],
      "metadata": {
        "colab": {
          "base_uri": "https://localhost:8080/"
        },
        "id": "R8kpHW3Pi9yT",
        "outputId": "a8702d9d-13cc-4d6c-f056-e2cc8a4502b9"
      },
      "execution_count": null,
      "outputs": [
        {
          "output_type": "stream",
          "name": "stdout",
          "text": [
            "[1, 15, 26, 28, 29]\n"
          ]
        }
      ]
    },
    {
      "cell_type": "code",
      "source": [
        "#A-28\n",
        "my_list = [\"red\", \"green\", \"orange\", \"blue\"]\n",
        "print(my_list[2])"
      ],
      "metadata": {
        "colab": {
          "base_uri": "https://localhost:8080/"
        },
        "id": "sb9kNEGrj9-l",
        "outputId": "47677b39-156f-4899-fe46-96e1ac9597fa"
      },
      "execution_count": null,
      "outputs": [
        {
          "output_type": "stream",
          "name": "stdout",
          "text": [
            "orange\n"
          ]
        }
      ]
    },
    {
      "cell_type": "code",
      "source": [
        "#A-29\n",
        "my_dict1 = {\"key course\": \"data science\", \"duration\": 200}\n",
        "my_dict2 = {\"dad no.\": 5678, \"Mom no.\": 2345}\n",
        "merged_dict = {**my_dict1, **my_dict2}\n",
        "print(merged_dict)"
      ],
      "metadata": {
        "colab": {
          "base_uri": "https://localhost:8080/"
        },
        "id": "uBNi86g8lmku",
        "outputId": "13e67d35-584a-4117-dd21-10c5b23fd053"
      },
      "execution_count": null,
      "outputs": [
        {
          "output_type": "stream",
          "name": "stdout",
          "text": [
            "{'key course': 'data science', 'duration': 200, 'dad no.': 5678, 'Mom no.': 2345}\n"
          ]
        }
      ]
    },
    {
      "cell_type": "code",
      "source": [
        "#A-30\n",
        "my_list = [\"potato\", \"tomato\", \"brinjl\", \"cabbage\"]\n",
        "my_set = set(my_list)\n",
        "print(my_set)"
      ],
      "metadata": {
        "colab": {
          "base_uri": "https://localhost:8080/"
        },
        "id": "w2ssRb7Gm5u2",
        "outputId": "1678e58b-71e7-4293-90da-89414619e0b1"
      },
      "execution_count": null,
      "outputs": [
        {
          "output_type": "stream",
          "name": "stdout",
          "text": [
            "{'potato', 'cabbage', 'brinjl', 'tomato'}\n"
          ]
        }
      ]
    },
    {
      "cell_type": "code",
      "source": [],
      "metadata": {
        "id": "USCB_EXzpDRQ"
      },
      "execution_count": null,
      "outputs": []
    }
  ]
}